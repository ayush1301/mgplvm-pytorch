{
 "cells": [
  {
   "cell_type": "code",
   "execution_count": 1,
   "metadata": {},
   "outputs": [],
   "source": [
    "import matplotlib.pyplot as plt\n",
    "import numpy as np\n",
    "import torch\n",
    "from torch import optim\n",
    "import syndata\n",
    "import align\n",
    "import mgplvm\n",
    "from mgplvm import kernels, rdist, models, training\n",
    "from mgplvm.manifolds import Torus\n",
    "plt.rcParams.update({'font.size': 22})"
   ]
  },
  {
   "cell_type": "code",
   "execution_count": null,
   "metadata": {},
   "outputs": [],
   "source": [
    "torch.set_default_dtype(torch.float64)\n",
    "device = mgplvm.utils.get_device(\"cuda\")  # get_device(\"cpu\")\n",
    "\n",
    "d = 1  # dims of latent space\n",
    "n = 100 # number of neurons\n",
    "m = 100  # number of conditions / time points\n",
    "n_z = 15  # number of inducing points\n",
    "n_samples = 1  # number of samples\n",
    "gen = syndata.Gen(syndata.Torus(d), n, m, variability=0.25)\n",
    "\n",
    "sig0 = 1.5\n",
    "l = 0.4\n",
    "gen.set_param('l', l)\n",
    "Y = gen.gen_data()\n",
    "print('mean activity:', np.mean(Y))\n",
    "Y = Y + np.random.normal(size=Y.shape) * np.mean(Y) / 3\n",
    "d = 1\n",
    "# specify manifold, kernel and rdist\n",
    "manif = Torus(m, d)\n",
    "ref_dist = mgplvm.rdist.MVN(m, d, sigma=sig0)\n",
    "# initialize signal variance\n",
    "alpha = np.mean(np.std(Y, axis=1), axis=1)\n",
    "kernel = kernels.QuadExp(n, manif.distance, alpha=alpha)\n",
    "# generate model\n",
    "sigma = np.mean(np.std(Y, axis=1), axis=1)  # initialize noise\n",
    "mod = models.Sgp(manif, n, m, n_z, kernel, ref_dist, sigma=sigma).to(device)"
   ]
  },
  {
   "cell_type": "code",
   "execution_count": null,
   "metadata": {},
   "outputs": [],
   "source": [
    "plt.figure()\n",
    "Yplot = Y[:, :, 0]\n",
    "plt.imshow(Yplot, cmap='Greys', aspect='auto')\n",
    "plt.xlabel(\"time [a.u.]\")\n",
    "plt.ylabel(\"neuron\")\n",
    "plt.xlim(0,100)\n",
    "plt.ylim(0,n)\n",
    "plt.show()\n",
    "plt.close()"
   ]
  },
  {
   "cell_type": "code",
   "execution_count": null,
   "metadata": {},
   "outputs": [],
   "source": [
    "# train model\n",
    "trained_mod = training.sgp(Y, \n",
    "                           mod, \n",
    "                           device, \n",
    "                           optimizer=optim.Adam, \n",
    "                           outdir='none', \n",
    "                           max_steps=1000, \n",
    "                           burnin='default', \n",
    "                           n_b=64, \n",
    "                           lrate=5E-2, \n",
    "                           print_every=50)\n",
    "\n",
    "data = torch.tensor(Y, dtype=torch.get_default_dtype()).to(device)\n",
    "mod = mod.to(device)\n",
    "mulearn = mod.manif.prms.data.cpu()\n",
    "mutrue = gen.gs[0]\n",
    "plearn = mod.manif.distance(mulearn.T, mulearn.T).numpy()\n",
    "ptrue = gen.manifold.manifs[0].distance(mutrue, mutrue)\n",
    "ptrue, plearn = [p.flatten() for p in [ptrue, plearn]]"
   ]
  },
  {
   "cell_type": "code",
   "execution_count": null,
   "metadata": {},
   "outputs": [],
   "source": [
    "print('final importance weighted log likelihood: %.4f' % mod.calc_LL(data, 128).item())\n",
    "plt.figure(figsize=(6, 6))\n",
    "plt.plot(plearn, ptrue, \"ko\", markersize=1.5, alpha=0.5)\n",
    "plt.xlabel(\"inferred\")\n",
    "plt.ylabel(\"true\")\n",
    "plt.xticks((0, 2, 4), (\"$0$\", \"$2$\", \"$4$\"))\n",
    "plt.yticks((0, 2, 4), (\"$0$\", \"$2$\", \"$4$\"))\n",
    "plt.show()\n",
    "plt.close()"
   ]
  },
  {
   "cell_type": "code",
   "execution_count": null,
   "metadata": {},
   "outputs": [],
   "source": [
    "#align model to ground truth\n",
    "mod = align.align_torus(mod, gen.gs[0])\n",
    "\n",
    "# %% compute mse\n",
    "query = mod.manif.mu.detach()\n",
    "fmean, fstd = mod.predict(data, query, niter=100)\n",
    "var = np.mean(np.var(Y, axis=1))\n",
    "MSE = np.mean(((fmean - data)**2).cpu().numpy())\n",
    "print('MSE:', MSE, 'var:', var)"
   ]
  },
  {
   "cell_type": "code",
   "execution_count": null,
   "metadata": {},
   "outputs": [],
   "source": [
    "#%% consider 'tuning curves'\n",
    "query = torch.tensor(np.linspace(0, 2 * np.pi, 50),\n",
    "                     dtype=torch.get_default_dtype(),\n",
    "                     device=device)\n",
    "\n",
    "fmean, fstd = mod.predict(data, query, niter=100)\n",
    "inds = [np.argmin((gen.gprefs[0] - val)**2) for val in 0.5 + np.arange(4) * 1.5]\n",
    "plt.figure(figsize=(8, 6))\n",
    "\n",
    "for i in inds:\n",
    "    xs, m, std = [arr.cpu().numpy() for arr in [query, fmean, fstd]]\n",
    "    m, std = [arr[i, :, 0] for arr in [m, std]]\n",
    "    plt.plot(xs, m, \"k--\")\n",
    "    plt.fill_between(xs, m - 2 * std, m + 2 * std, color='k', alpha=0.2)\n",
    "    true_y = gen.gen_data(gs_in=[xs.reshape(-1, 1)], sigma=np.zeros((mod.n, 1)))\n",
    "    plt.plot(xs, true_y[i, :, 0], 'g-')\n",
    "\n",
    "plt.xlabel(r\"$\\theta$ [radian]\")\n",
    "plt.ylabel(r\"rate [a.u.]\")\n",
    "plt.xlim(0, 2 * np.pi)\n",
    "plt.show()\n",
    "plt.close()"
   ]
  },
  {
   "cell_type": "code",
   "execution_count": null,
   "metadata": {},
   "outputs": [],
   "source": []
  }
 ],
 "metadata": {
  "kernelspec": {
   "display_name": "Python 3",
   "language": "python",
   "name": "python3"
  },
  "language_info": {
   "codemirror_mode": {
    "name": "ipython",
    "version": 3
   },
   "file_extension": ".py",
   "mimetype": "text/x-python",
   "name": "python",
   "nbconvert_exporter": "python",
   "pygments_lexer": "ipython3",
   "version": "3.8.3"
  }
 },
 "nbformat": 4,
 "nbformat_minor": 4
}
